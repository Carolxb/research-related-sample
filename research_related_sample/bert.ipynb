{
 "cells": [
  {
   "cell_type": "code",
   "execution_count": 5,
   "id": "7079109b",
   "metadata": {},
   "outputs": [],
   "source": [
    "from bertopic import BERTopic\n",
    "import re\n",
    "import pandas as pd\n",
    "from flair.embeddings import TransformerDocumentEmbeddings\n",
    "from umap import UMAP\n",
    "from hdbscan import HDBSCAN\n",
    "from sentence_transformers import SentenceTransformer\n",
    "from sklearn.cluster import KMeans\n",
    "from sklearn.feature_extraction.text import CountVectorizer\n",
    "from nltk.corpus import stopwords\n",
    "import nltk\n",
    "import string\n",
    "import numpy as np\n",
    "import matplotlib.pyplot as plt\n",
    "import seaborn as sns\n",
    "import gensim\n",
    "import spacy\n",
    "\n"
   ]
  },
  {
   "cell_type": "code",
   "execution_count": 1,
   "id": "50a33fff",
   "metadata": {},
   "outputs": [],
   "source": [
    "from bertopic import BERTopic\n",
    "import re\n",
    "import pandas as pd\n",
    "from flair.embeddings import TransformerDocumentEmbeddings\n",
    "from umap import UMAP\n",
    "from hdbscan import HDBSCAN\n",
    "from sentence_transformers import SentenceTransformer\n",
    "from sklearn.cluster import KMeans\n",
    "from sklearn.feature_extraction.text import CountVectorizer\n",
    "from nltk.corpus import stopwords\n",
    "import nltk\n",
    "import string\n",
    "import numpy as np\n",
    "import matplotlib.pyplot as plt\n",
    "import seaborn as sns\n",
    "import gensim\n",
    "import spacy\n",
    "\n",
    "import pandas as pd #import pandas\n",
    "df=pd.read_csv('transfered_csv_after_promo_4014.csv') "
   ]
  },
  {
   "cell_type": "code",
   "execution_count": 49,
   "id": "3fc30458",
   "metadata": {},
   "outputs": [],
   "source": [
    "import gensim\n",
    "from gensim.utils import simple_preprocess\n",
    "def sent_to_words(sentences):\n",
    "    for sentence in sentences:\n",
    "        yield(gensim.utils.simple_preprocess(str(sentence), deacc=True))  # deacc=True removes punctuations"
   ]
  },
  {
   "cell_type": "code",
   "execution_count": 50,
   "id": "4350edcc",
   "metadata": {},
   "outputs": [],
   "source": [
    "def remove_stopwords(texts):\n",
    "    return [[word for word in simple_preprocess(str(doc)) if word not in stop_words] for doc in texts]\n",
    "def make_bigrams(texts):\n",
    "    return [bigram_mod[doc] for doc in texts]\n",
    "def make_trigrams(texts):\n",
    "    return [trigram_mod[bigram_mod[doc]] for doc in texts]\n",
    "def lemmatization(texts, allowed_postags=['NOUN', 'ADJ', 'VERB', 'ADV']):\n",
    "    \"\"\"https://spacy.io/api/annotation\"\"\"\n",
    "    texts_out = []\n",
    "    for sent in texts:\n",
    "        doc = nlp(\" \".join(sent)) \n",
    "        texts_out.append([token.lemma_ for token in doc if token.pos_ in allowed_postags])\n",
    "    return texts_out"
   ]
  },
  {
   "cell_type": "code",
   "execution_count": 51,
   "id": "46b952db",
   "metadata": {},
   "outputs": [],
   "source": [
    "# Remove Punctuations\n",
    "df['full_txt_cleaned'] = df['full_text'].map(lambda x: re.sub('[,\\.!?]', '', x))\n",
    "# Convert the titles to lowercase\n",
    "df['full_txt_cleaned'] = df['full_txt_cleaned'].map(lambda x: x.lower())"
   ]
  },
  {
   "cell_type": "code",
   "execution_count": 52,
   "id": "168eadf5",
   "metadata": {},
   "outputs": [],
   "source": [
    "data = df.full_txt_cleaned.values.tolist()\n",
    "data_words = list(sent_to_words(data))"
   ]
  },
  {
   "cell_type": "code",
   "execution_count": 53,
   "id": "6a9de56c",
   "metadata": {},
   "outputs": [],
   "source": [
    "# Build the bigram and trigram models\n",
    "bigram = gensim.models.Phrases(data_words, min_count=5, threshold=100) # higher threshold fewer phrases.\n",
    "trigram = gensim.models.Phrases(bigram[data_words], threshold=100)\n",
    "# Faster way to get a sentence clubbed as a trigram/bigram\n",
    "bigram_mod = gensim.models.phrases.Phraser(bigram)\n",
    "trigram_mod = gensim.models.phrases.Phraser(trigram)"
   ]
  },
  {
   "cell_type": "code",
   "execution_count": 54,
   "id": "1e62d5d0",
   "metadata": {},
   "outputs": [],
   "source": [
    "stop_words = stopwords.words('english')"
   ]
  },
  {
   "cell_type": "code",
   "execution_count": 55,
   "id": "8df2acd5",
   "metadata": {},
   "outputs": [
    {
     "name": "stdout",
     "output_type": "stream",
     "text": [
      "[['make', 'sense', 'nrt', 'amp', 'vape', 'work', 'get', 'vln', 'last', 'book', 'script', 'vape', 'amp', 'flavour', 'approve', 'inhalation', 'weseal', 'get', 'wish', 'kick', 'tobacco', 'nuts', 'merky', 'cartel', 'lot', 'hollieahughe', 'mattjcan', 'ruthy']]\n"
     ]
    }
   ],
   "source": [
    "# Remove Stop Words\n",
    "data_words_nostops = remove_stopwords(data_words)\n",
    "# Form Bigrams\n",
    "data_words_bigrams = make_bigrams(data_words_nostops)\n",
    "# Initialize spacy 'en' model, keeping only tagger component (for efficiency)\n",
    "nlp = spacy.load(\"en_core_web_sm\", disable=['parser', 'ner'])\n",
    "# Do lemmatization keeping only noun, adj, vb, adv\n",
    "data_lemmatized = lemmatization(data_words_bigrams, allowed_postags=['NOUN', 'ADJ', 'VERB', 'ADV'])\n",
    "print(data_lemmatized[:1])"
   ]
  },
  {
   "cell_type": "code",
   "execution_count": 56,
   "id": "a1c46ecd",
   "metadata": {},
   "outputs": [
    {
     "data": {
      "text/plain": [
       "0    make sense vape work last book script vape fla...\n",
       "1    wiki volunteer look study explore side issue d...\n",
       "2    batshittery reduce nicotine cigarette nicotine...\n",
       "3    potential scenario current communication nicot...\n",
       "4    imaracingmom ncidirector exactly cigarette ple...\n",
       "Name: full_txt_cleaned, dtype: object"
      ]
     },
     "execution_count": 56,
     "metadata": {},
     "output_type": "execute_result"
    }
   ],
   "source": [
    "# Keeps only the tokens with more than 3 letters\n",
    "tokens = [[word for word in words if len(word)>3] for words in data_lemmatized]\n",
    "df['full_txt_cleaned'] = [\" \".join(words) for words in tokens]\n",
    "df['full_txt_cleaned'].head()"
   ]
  },
  {
   "cell_type": "code",
   "execution_count": 57,
   "id": "a79b84cf",
   "metadata": {},
   "outputs": [],
   "source": [
    "data = df['full_txt_cleaned'].to_list()\n",
    "timestamp = df['created_at'].to_list()"
   ]
  },
  {
   "cell_type": "code",
   "execution_count": 58,
   "id": "78a405c3",
   "metadata": {},
   "outputs": [],
   "source": [
    "from collections import Counter\n",
    "def format_topics_sentences(model, topics):\n",
    "    # Init output\n",
    "    sent_topics_df = pd.DataFrame()\n",
    "    # ----- Finding the dominant topic in each sentence -----\n",
    "    print(\n",
    "        \"\\n******Finding the dominant topic in each sentence******\\n\")\n",
    "\n",
    "    # Get main topic in each document\n",
    "    for i, row in enumerate(data):\n",
    "        cur_topic_index = topics[i]\n",
    "        # cur_prob_dis = probs[i]\n",
    "        # cur_prob = probs[i][np.argmax(cur_prob_dis)]\n",
    "        cur_prob = 1\n",
    "        cur_topic = model.get_topic(cur_topic_index)\n",
    "\n",
    "        topic_keywords = \", \".join([word for word, prop in cur_topic])\n",
    "        sent_topics_df = sent_topics_df.append(pd.Series(\n",
    "                    [cur_topic_index, round(cur_prob, 4), topic_keywords, row]), ignore_index=True)\n",
    "\n",
    "    sent_topics_df = sent_topics_df.reset_index()\n",
    "    sent_topics_df.columns = [\n",
    "            'Document_No',\n",
    "            'Dominant_Topic',\n",
    "            'Topic_Perc_Contrib',\n",
    "            'Keywords',\n",
    "            'Text']\n",
    "\n",
    "    items = Counter(topics).keys()\n",
    "    num_topic=len(items)\n",
    "    \n",
    "\n",
    "    sent_topics_df.to_csv(\n",
    "        \n",
    "        'sent_topics' +\n",
    "        str(num_topic) +\n",
    "        '.csv')\n",
    "\n",
    "    #  ----- Find the most representative document for each topic -----\n",
    "    print(\n",
    "        \"\\n******Find the most representative document for each topic******\\n\")\n",
    "\n",
    "    # Group top 20 sentences under each topic\n",
    "    df_topic_sents_keywords = sent_topics_df\n",
    "    sent_topics_sorteddf_mallet = pd.DataFrame()\n",
    "\n",
    "    sent_topics_outdf_grpd = df_topic_sents_keywords.groupby(\n",
    "        'Dominant_Topic')\n",
    "\n",
    "    for i, grp in sent_topics_outdf_grpd:\n",
    "        sent_topics_sorteddf_mallet = pd.concat([sent_topics_sorteddf_mallet, grp.sort_values(\n",
    "            ['Topic_Perc_Contrib'], ascending=[0]).head(1)], axis=0)\n",
    "\n",
    "    # Reset Index\n",
    "    sent_topics_sorteddf_mallet.reset_index(drop=True, inplace=True)\n",
    "\n",
    "    # Format\n",
    "    #sent_topics_sorteddf_mallet.columns = ['Topic_Num', \"Topic_Perc_Contrib\", \"Keywords\", \"Text\"]\n",
    "    sent_topics_sorteddf_mallet.to_csv(\n",
    "        'sent_topics_sorted_' + str(num_topic) + '.csv')\n",
    "\n",
    "    df = sent_topics_df\n",
    "    df.Dominant_Topic = df.Dominant_Topic.astype(int)\n",
    "    df[\"count\"] = 1\n",
    "    df = df.groupby(\"Dominant_Topic\").sum().reset_index(\n",
    "        \"Dominant_Topic\").drop(columns=[\"Document_No\", \"Topic_Perc_Contrib\"])\n",
    "\n",
    "    df_topic_info = sent_topics_sorteddf_mallet\n",
    "    df = df.merge(df_topic_info, on=\"Dominant_Topic\").drop(\n",
    "        columns=[\"Document_No\", \"Topic_Perc_Contrib\"])\n",
    "    df.rename(columns={\"Dominant_Topic\": \"dominant_topic_id\",\n",
    "                        \"count\": \"num_tweets\",\n",
    "                        \"Keywords\": \"topic_keywords\",\n",
    "                        \"Text\": \"example_tweet\"},\n",
    "                inplace=True)\n",
    "\n",
    "    df[\"perc_tweets\"] = df.num_tweets / df.num_tweets.sum()\n",
    "    df = df[[\"dominant_topic_id\", \"topic_keywords\",\n",
    "                \"num_tweets\", \"perc_tweets\", \"example_tweet\"]]\n",
    "    df = df.sort_values(\"num_tweets\", ascending=False)\n",
    "    df.index = np.arange(len(df))\n",
    "    df.to_csv( 'final_res_' + str(num_topic) + '.csv')"
   ]
  },
  {
   "cell_type": "code",
   "execution_count": 59,
   "id": "b9649c71",
   "metadata": {},
   "outputs": [],
   "source": [
    "from gensim.models import CoherenceModel\n",
    "import spacy\n",
    "import gensim.corpora as corpora"
   ]
  },
  {
   "cell_type": "code",
   "execution_count": 60,
   "id": "0ac26c55",
   "metadata": {},
   "outputs": [
    {
     "name": "stdout",
     "output_type": "stream",
     "text": [
      "Working on nr_topics = 5.\n"
     ]
    },
    {
     "data": {
      "application/vnd.jupyter.widget-view+json": {
       "model_id": "4635291b7c244c1fb7761310ebb2987b",
       "version_major": 2,
       "version_minor": 0
      },
      "text/plain": [
       "Batches:   0%|          | 0/126 [00:00<?, ?it/s]"
      ]
     },
     "metadata": {},
     "output_type": "display_data"
    },
    {
     "name": "stderr",
     "output_type": "stream",
     "text": [
      "2023-01-06 03:36:03,628 - BERTopic - Transformed documents to Embeddings\n",
      "2023-01-06 03:36:20,737 - BERTopic - Reduced dimensionality\n",
      "2023-01-06 03:36:21,128 - BERTopic - Clustered reduced embeddings\n",
      "2023-01-06 03:36:26,909 - BERTopic - Reduced number of topics from 30 to 5\n",
      "3992it [16:51,  3.95it/s]\n"
     ]
    },
    {
     "name": "stdout",
     "output_type": "stream",
     "text": [
      "\n",
      "******Finding the dominant topic in each sentence******\n",
      "\n",
      "\n",
      "******Find the most representative document for each topic******\n",
      "\n",
      "huggingface/tokenizers: The current process just got forked, after parallelism has already been used. Disabling parallelism to avoid deadlocks...\n",
      "To disable this warning, you can either:\n",
      "\t- Avoid using `tokenizers` before the fork if possible\n",
      "\t- Explicitly set the environment variable TOKENIZERS_PARALLELISM=(true | false)\n",
      "huggingface/tokenizers: The current process just got forked, after parallelism has already been used. Disabling parallelism to avoid deadlocks...\n",
      "To disable this warning, you can either:\n",
      "\t- Avoid using `tokenizers` before the fork if possible\n",
      "\t- Explicitly set the environment variable TOKENIZERS_PARALLELISM=(true | false)\n",
      "huggingface/tokenizers: The current process just got forked, after parallelism has already been used. Disabling parallelism to avoid deadlocks...\n",
      "To disable this warning, you can either:\n",
      "\t- Avoid using `tokenizers` before the fork if possible\n",
      "\t- Explicitly set the environment variable TOKENIZERS_PARALLELISM=(true | false)\n",
      "huggingface/tokenizers: The current process just got forked, after parallelism has already been used. Disabling parallelism to avoid deadlocks...\n",
      "To disable this warning, you can either:\n",
      "\t- Avoid using `tokenizers` before the fork if possible\n",
      "\t- Explicitly set the environment variable TOKENIZERS_PARALLELISM=(true | false)\n",
      "huggingface/tokenizers: The current process just got forked, after parallelism has already been used. Disabling parallelism to avoid deadlocks...\n",
      "To disable this warning, you can either:\n",
      "\t- Avoid using `tokenizers` before the fork if possible\n",
      "\t- Explicitly set the environment variable TOKENIZERS_PARALLELISM=(true | false)\n",
      "huggingface/tokenizers: The current process just got forked, after parallelism has already been used. Disabling parallelism to avoid deadlocks...\n",
      "To disable this warning, you can either:\n",
      "\t- Avoid using `tokenizers` before the fork if possible\n",
      "\t- Explicitly set the environment variable TOKENIZERS_PARALLELISM=(true | false)\n",
      "huggingface/tokenizers: The current process just got forked, after parallelism has already been used. Disabling parallelism to avoid deadlocks...\n",
      "To disable this warning, you can either:\n",
      "\t- Avoid using `tokenizers` before the fork if possible\n",
      "\t- Explicitly set the environment variable TOKENIZERS_PARALLELISM=(true | false)\n",
      "Done.\n",
      "Working on nr_topics = 6.\n"
     ]
    },
    {
     "data": {
      "application/vnd.jupyter.widget-view+json": {
       "model_id": "f32d07692be7430db348743d71254531",
       "version_major": 2,
       "version_minor": 0
      },
      "text/plain": [
       "Batches:   0%|          | 0/126 [00:00<?, ?it/s]"
      ]
     },
     "metadata": {},
     "output_type": "display_data"
    },
    {
     "name": "stderr",
     "output_type": "stream",
     "text": [
      "2023-01-06 03:54:10,627 - BERTopic - Transformed documents to Embeddings\n",
      "2023-01-06 03:54:27,228 - BERTopic - Reduced dimensionality\n",
      "2023-01-06 03:54:27,609 - BERTopic - Clustered reduced embeddings\n",
      "2023-01-06 03:54:33,251 - BERTopic - Reduced number of topics from 30 to 6\n",
      "3992it [16:21,  4.07it/s]\n"
     ]
    },
    {
     "name": "stdout",
     "output_type": "stream",
     "text": [
      "\n",
      "******Finding the dominant topic in each sentence******\n",
      "\n",
      "\n",
      "******Find the most representative document for each topic******\n",
      "\n",
      "huggingface/tokenizers: The current process just got forked, after parallelism has already been used. Disabling parallelism to avoid deadlocks...\n",
      "To disable this warning, you can either:\n",
      "\t- Avoid using `tokenizers` before the fork if possible\n",
      "\t- Explicitly set the environment variable TOKENIZERS_PARALLELISM=(true | false)\n",
      "huggingface/tokenizers: The current process just got forked, after parallelism has already been used. Disabling parallelism to avoid deadlocks...\n",
      "To disable this warning, you can either:\n",
      "\t- Avoid using `tokenizers` before the fork if possible\n",
      "\t- Explicitly set the environment variable TOKENIZERS_PARALLELISM=(true | false)\n",
      "huggingface/tokenizers: The current process just got forked, after parallelism has already been used. Disabling parallelism to avoid deadlocks...\n",
      "To disable this warning, you can either:\n",
      "\t- Avoid using `tokenizers` before the fork if possible\n",
      "\t- Explicitly set the environment variable TOKENIZERS_PARALLELISM=(true | false)\n",
      "huggingface/tokenizers: The current process just got forked, after parallelism has already been used. Disabling parallelism to avoid deadlocks...\n",
      "To disable this warning, you can either:\n",
      "\t- Avoid using `tokenizers` before the fork if possible\n",
      "\t- Explicitly set the environment variable TOKENIZERS_PARALLELISM=(true | false)\n",
      "huggingface/tokenizers: The current process just got forked, after parallelism has already been used. Disabling parallelism to avoid deadlocks...\n",
      "To disable this warning, you can either:\n",
      "\t- Avoid using `tokenizers` before the fork if possible\n",
      "\t- Explicitly set the environment variable TOKENIZERS_PARALLELISM=(true | false)\n",
      "huggingface/tokenizers: The current process just got forked, after parallelism has already been used. Disabling parallelism to avoid deadlocks...\n",
      "To disable this warning, you can either:\n",
      "\t- Avoid using `tokenizers` before the fork if possible\n",
      "\t- Explicitly set the environment variable TOKENIZERS_PARALLELISM=(true | false)\n",
      "huggingface/tokenizers: The current process just got forked, after parallelism has already been used. Disabling parallelism to avoid deadlocks...\n",
      "To disable this warning, you can either:\n",
      "\t- Avoid using `tokenizers` before the fork if possible\n",
      "\t- Explicitly set the environment variable TOKENIZERS_PARALLELISM=(true | false)\n",
      "Done.\n",
      "Working on nr_topics = 7.\n"
     ]
    },
    {
     "data": {
      "application/vnd.jupyter.widget-view+json": {
       "model_id": "5cf9e234766d4aae994f3e960584d988",
       "version_major": 2,
       "version_minor": 0
      },
      "text/plain": [
       "Batches:   0%|          | 0/126 [00:00<?, ?it/s]"
      ]
     },
     "metadata": {},
     "output_type": "display_data"
    },
    {
     "name": "stderr",
     "output_type": "stream",
     "text": [
      "2023-01-06 04:11:47,116 - BERTopic - Transformed documents to Embeddings\n",
      "2023-01-06 04:12:02,505 - BERTopic - Reduced dimensionality\n",
      "2023-01-06 04:12:02,881 - BERTopic - Clustered reduced embeddings\n",
      "2023-01-06 04:12:08,638 - BERTopic - Reduced number of topics from 30 to 7\n",
      "3992it [16:27,  4.04it/s]\n"
     ]
    },
    {
     "name": "stdout",
     "output_type": "stream",
     "text": [
      "\n",
      "******Finding the dominant topic in each sentence******\n",
      "\n",
      "\n",
      "******Find the most representative document for each topic******\n",
      "\n",
      "huggingface/tokenizers: The current process just got forked, after parallelism has already been used. Disabling parallelism to avoid deadlocks...\n",
      "To disable this warning, you can either:\n",
      "\t- Avoid using `tokenizers` before the fork if possible\n",
      "\t- Explicitly set the environment variable TOKENIZERS_PARALLELISM=(true | false)\n",
      "huggingface/tokenizers: The current process just got forked, after parallelism has already been used. Disabling parallelism to avoid deadlocks...\n",
      "To disable this warning, you can either:\n",
      "\t- Avoid using `tokenizers` before the fork if possible\n",
      "\t- Explicitly set the environment variable TOKENIZERS_PARALLELISM=(true | false)\n",
      "huggingface/tokenizers: The current process just got forked, after parallelism has already been used. Disabling parallelism to avoid deadlocks...\n",
      "To disable this warning, you can either:\n",
      "\t- Avoid using `tokenizers` before the fork if possible\n",
      "\t- Explicitly set the environment variable TOKENIZERS_PARALLELISM=(true | false)\n",
      "huggingface/tokenizers: The current process just got forked, after parallelism has already been used. Disabling parallelism to avoid deadlocks...\n",
      "To disable this warning, you can either:\n",
      "\t- Avoid using `tokenizers` before the fork if possible\n",
      "\t- Explicitly set the environment variable TOKENIZERS_PARALLELISM=(true | false)\n",
      "huggingface/tokenizers: The current process just got forked, after parallelism has already been used. Disabling parallelism to avoid deadlocks...\n",
      "To disable this warning, you can either:\n",
      "\t- Avoid using `tokenizers` before the fork if possible\n",
      "\t- Explicitly set the environment variable TOKENIZERS_PARALLELISM=(true | false)\n",
      "huggingface/tokenizers: The current process just got forked, after parallelism has already been used. Disabling parallelism to avoid deadlocks...\n",
      "To disable this warning, you can either:\n",
      "\t- Avoid using `tokenizers` before the fork if possible\n",
      "\t- Explicitly set the environment variable TOKENIZERS_PARALLELISM=(true | false)\n",
      "huggingface/tokenizers: The current process just got forked, after parallelism has already been used. Disabling parallelism to avoid deadlocks...\n",
      "To disable this warning, you can either:\n",
      "\t- Avoid using `tokenizers` before the fork if possible\n",
      "\t- Explicitly set the environment variable TOKENIZERS_PARALLELISM=(true | false)\n",
      "Done.\n",
      "Working on nr_topics = 8.\n"
     ]
    },
    {
     "data": {
      "application/vnd.jupyter.widget-view+json": {
       "model_id": "3693b831caae4da8915ae7925c9847d7",
       "version_major": 2,
       "version_minor": 0
      },
      "text/plain": [
       "Batches:   0%|          | 0/126 [00:00<?, ?it/s]"
      ]
     },
     "metadata": {},
     "output_type": "display_data"
    },
    {
     "name": "stderr",
     "output_type": "stream",
     "text": [
      "2023-01-06 04:29:26,932 - BERTopic - Transformed documents to Embeddings\n",
      "2023-01-06 04:29:41,951 - BERTopic - Reduced dimensionality\n",
      "2023-01-06 04:29:42,316 - BERTopic - Clustered reduced embeddings\n",
      "2023-01-06 04:29:48,081 - BERTopic - Reduced number of topics from 30 to 8\n",
      "3992it [19:02,  3.49it/s]\n"
     ]
    },
    {
     "name": "stdout",
     "output_type": "stream",
     "text": [
      "\n",
      "******Finding the dominant topic in each sentence******\n",
      "\n",
      "\n",
      "******Find the most representative document for each topic******\n",
      "\n",
      "huggingface/tokenizers: The current process just got forked, after parallelism has already been used. Disabling parallelism to avoid deadlocks...\n",
      "To disable this warning, you can either:\n",
      "\t- Avoid using `tokenizers` before the fork if possible\n",
      "\t- Explicitly set the environment variable TOKENIZERS_PARALLELISM=(true | false)\n",
      "huggingface/tokenizers: The current process just got forked, after parallelism has already been used. Disabling parallelism to avoid deadlocks...\n",
      "To disable this warning, you can either:\n",
      "\t- Avoid using `tokenizers` before the fork if possible\n",
      "\t- Explicitly set the environment variable TOKENIZERS_PARALLELISM=(true | false)\n",
      "huggingface/tokenizers: The current process just got forked, after parallelism has already been used. Disabling parallelism to avoid deadlocks...\n",
      "To disable this warning, you can either:\n",
      "\t- Avoid using `tokenizers` before the fork if possible\n",
      "\t- Explicitly set the environment variable TOKENIZERS_PARALLELISM=(true | false)\n",
      "huggingface/tokenizers: The current process just got forked, after parallelism has already been used. Disabling parallelism to avoid deadlocks...\n",
      "To disable this warning, you can either:\n",
      "\t- Avoid using `tokenizers` before the fork if possible\n",
      "\t- Explicitly set the environment variable TOKENIZERS_PARALLELISM=(true | false)\n",
      "huggingface/tokenizers: The current process just got forked, after parallelism has already been used. Disabling parallelism to avoid deadlocks...\n",
      "To disable this warning, you can either:\n",
      "\t- Avoid using `tokenizers` before the fork if possible\n",
      "\t- Explicitly set the environment variable TOKENIZERS_PARALLELISM=(true | false)\n",
      "huggingface/tokenizers: The current process just got forked, after parallelism has already been used. Disabling parallelism to avoid deadlocks...\n",
      "To disable this warning, you can either:\n",
      "\t- Avoid using `tokenizers` before the fork if possible\n",
      "\t- Explicitly set the environment variable TOKENIZERS_PARALLELISM=(true | false)\n",
      "huggingface/tokenizers: The current process just got forked, after parallelism has already been used. Disabling parallelism to avoid deadlocks...\n",
      "To disable this warning, you can either:\n",
      "\t- Avoid using `tokenizers` before the fork if possible\n",
      "\t- Explicitly set the environment variable TOKENIZERS_PARALLELISM=(true | false)\n",
      "Done.\n",
      "Working on nr_topics = 9.\n"
     ]
    },
    {
     "data": {
      "application/vnd.jupyter.widget-view+json": {
       "model_id": "19c4f616cd114948b6800fec303478cc",
       "version_major": 2,
       "version_minor": 0
      },
      "text/plain": [
       "Batches:   0%|          | 0/126 [00:00<?, ?it/s]"
      ]
     },
     "metadata": {},
     "output_type": "display_data"
    },
    {
     "name": "stderr",
     "output_type": "stream",
     "text": [
      "2023-01-06 04:49:43,322 - BERTopic - Transformed documents to Embeddings\n",
      "2023-01-06 04:49:58,511 - BERTopic - Reduced dimensionality\n",
      "2023-01-06 04:49:58,887 - BERTopic - Clustered reduced embeddings\n",
      "2023-01-06 04:50:04,944 - BERTopic - Reduced number of topics from 30 to 9\n",
      "3992it [22:33,  2.95it/s] \n"
     ]
    },
    {
     "name": "stdout",
     "output_type": "stream",
     "text": [
      "\n",
      "******Finding the dominant topic in each sentence******\n",
      "\n",
      "\n",
      "******Find the most representative document for each topic******\n",
      "\n",
      "huggingface/tokenizers: The current process just got forked, after parallelism has already been used. Disabling parallelism to avoid deadlocks...\n",
      "To disable this warning, you can either:\n",
      "\t- Avoid using `tokenizers` before the fork if possible\n",
      "\t- Explicitly set the environment variable TOKENIZERS_PARALLELISM=(true | false)\n",
      "huggingface/tokenizers: The current process just got forked, after parallelism has already been used. Disabling parallelism to avoid deadlocks...\n",
      "To disable this warning, you can either:\n",
      "\t- Avoid using `tokenizers` before the fork if possible\n",
      "\t- Explicitly set the environment variable TOKENIZERS_PARALLELISM=(true | false)\n",
      "huggingface/tokenizers: The current process just got forked, after parallelism has already been used. Disabling parallelism to avoid deadlocks...\n",
      "To disable this warning, you can either:\n",
      "\t- Avoid using `tokenizers` before the fork if possible\n",
      "\t- Explicitly set the environment variable TOKENIZERS_PARALLELISM=(true | false)\n",
      "huggingface/tokenizers: The current process just got forked, after parallelism has already been used. Disabling parallelism to avoid deadlocks...\n",
      "To disable this warning, you can either:\n",
      "\t- Avoid using `tokenizers` before the fork if possible\n",
      "\t- Explicitly set the environment variable TOKENIZERS_PARALLELISM=(true | false)\n",
      "huggingface/tokenizers: The current process just got forked, after parallelism has already been used. Disabling parallelism to avoid deadlocks...\n",
      "To disable this warning, you can either:\n",
      "\t- Avoid using `tokenizers` before the fork if possible\n",
      "\t- Explicitly set the environment variable TOKENIZERS_PARALLELISM=(true | false)\n",
      "huggingface/tokenizers: The current process just got forked, after parallelism has already been used. Disabling parallelism to avoid deadlocks...\n",
      "To disable this warning, you can either:\n",
      "\t- Avoid using `tokenizers` before the fork if possible\n",
      "\t- Explicitly set the environment variable TOKENIZERS_PARALLELISM=(true | false)\n",
      "huggingface/tokenizers: The current process just got forked, after parallelism has already been used. Disabling parallelism to avoid deadlocks...\n",
      "To disable this warning, you can either:\n",
      "\t- Avoid using `tokenizers` before the fork if possible\n",
      "\t- Explicitly set the environment variable TOKENIZERS_PARALLELISM=(true | false)\n",
      "Done.\n",
      "Working on nr_topics = 10.\n"
     ]
    },
    {
     "data": {
      "application/vnd.jupyter.widget-view+json": {
       "model_id": "a23e9490ca2349f99189ea7d31a8de00",
       "version_major": 2,
       "version_minor": 0
      },
      "text/plain": [
       "Batches:   0%|          | 0/126 [00:00<?, ?it/s]"
      ]
     },
     "metadata": {},
     "output_type": "display_data"
    },
    {
     "name": "stderr",
     "output_type": "stream",
     "text": [
      "2023-01-06 05:13:29,491 - BERTopic - Transformed documents to Embeddings\n",
      "2023-01-06 05:13:44,767 - BERTopic - Reduced dimensionality\n",
      "2023-01-06 05:13:45,113 - BERTopic - Clustered reduced embeddings\n",
      "2023-01-06 05:13:51,239 - BERTopic - Reduced number of topics from 30 to 10\n",
      "3992it [39:11,  1.70it/s] \n"
     ]
    },
    {
     "name": "stdout",
     "output_type": "stream",
     "text": [
      "\n",
      "******Finding the dominant topic in each sentence******\n",
      "\n",
      "\n",
      "******Find the most representative document for each topic******\n",
      "\n",
      "huggingface/tokenizers: The current process just got forked, after parallelism has already been used. Disabling parallelism to avoid deadlocks...\n",
      "To disable this warning, you can either:\n",
      "\t- Avoid using `tokenizers` before the fork if possible\n",
      "\t- Explicitly set the environment variable TOKENIZERS_PARALLELISM=(true | false)\n",
      "huggingface/tokenizers: The current process just got forked, after parallelism has already been used. Disabling parallelism to avoid deadlocks...\n",
      "To disable this warning, you can either:\n",
      "\t- Avoid using `tokenizers` before the fork if possible\n",
      "\t- Explicitly set the environment variable TOKENIZERS_PARALLELISM=(true | false)\n",
      "huggingface/tokenizers: The current process just got forked, after parallelism has already been used. Disabling parallelism to avoid deadlocks...\n",
      "To disable this warning, you can either:\n",
      "\t- Avoid using `tokenizers` before the fork if possible\n",
      "\t- Explicitly set the environment variable TOKENIZERS_PARALLELISM=(true | false)\n",
      "huggingface/tokenizers: The current process just got forked, after parallelism has already been used. Disabling parallelism to avoid deadlocks...\n",
      "To disable this warning, you can either:\n",
      "\t- Avoid using `tokenizers` before the fork if possible\n",
      "\t- Explicitly set the environment variable TOKENIZERS_PARALLELISM=(true | false)\n",
      "huggingface/tokenizers: The current process just got forked, after parallelism has already been used. Disabling parallelism to avoid deadlocks...\n",
      "To disable this warning, you can either:\n",
      "\t- Avoid using `tokenizers` before the fork if possible\n",
      "\t- Explicitly set the environment variable TOKENIZERS_PARALLELISM=(true | false)\n",
      "huggingface/tokenizers: The current process just got forked, after parallelism has already been used. Disabling parallelism to avoid deadlocks...\n",
      "To disable this warning, you can either:\n",
      "\t- Avoid using `tokenizers` before the fork if possible\n",
      "\t- Explicitly set the environment variable TOKENIZERS_PARALLELISM=(true | false)\n",
      "huggingface/tokenizers: The current process just got forked, after parallelism has already been used. Disabling parallelism to avoid deadlocks...\n",
      "To disable this warning, you can either:\n",
      "\t- Avoid using `tokenizers` before the fork if possible\n",
      "\t- Explicitly set the environment variable TOKENIZERS_PARALLELISM=(true | false)\n",
      "Done.\n"
     ]
    }
   ],
   "source": [
    "stop_words = list(stopwords.words('english')) + ['http', 'https', 'amp', 'com']\n",
    "embedding_model = SentenceTransformer(\"all-MiniLM-L6-v2\")\n",
    "umap_model = UMAP(n_neighbors=15, n_components=3, min_dist=0.2, metric='cosine')\n",
    "hdbscan_model = HDBSCAN(min_cluster_size=400, min_samples=5, max_cluster_size=30000,\n",
    "                        gen_min_span_tree=True,\n",
    "                        prediction_data=True,\n",
    "                        metric='euclidean')\n",
    "cluster_model = KMeans(n_clusters=30)\n",
    "vectorizer_model = CountVectorizer(max_df=0.9, min_df = 0.1, ngram_range=(1, 4), stop_words=stop_words, lowercase=True, token_pattern='[a-zA-Z0-9]{3,}')\n",
    "try:\n",
    "    # Adds and deletes the nr_topic as needed. Most of the time, optimal values lies in [3,20]\n",
    "#     nrs = [5, 6, 7, 8, 9, 10, 11, 12, 13, 14, 15, 16, 17, 18, 19, 20, 25, 30]\n",
    "    nrs = [5, 6, 7, 8, 9, 10]\n",
    "    scores_cv = {}\n",
    "    for nr in nrs:\n",
    "        print(f'Working on nr_topics = {nr}.')\n",
    "        model = BERTopic(\n",
    "            umap_model=umap_model,\n",
    "            hdbscan_model=cluster_model,\n",
    "            embedding_model=embedding_model,\n",
    "            vectorizer_model=vectorizer_model,\n",
    "            nr_topics=nr,\n",
    "#             top_n_words=7,\n",
    "            language='english',\n",
    "            calculate_probabilities=True,\n",
    "            verbose=True,\n",
    "            diversity=0.8\n",
    "        )\n",
    "#         model = BERTopic(language='english', calculate_probabilities=False,verbose=True,nr_topics=nr)\n",
    "        topics, probs = model.fit_transform(df['full_txt_cleaned'])\n",
    "        topics_over_time = model.topics_over_time(data, timestamp)\n",
    "        topics_over_time.to_csv('overtime'+ str(nr) + '.csv',index=False)\n",
    "#         model.get_topic_info()\n",
    "        fig1=model.visualize_hierarchy()\n",
    "        fig1.write_html(\"hier_\"+str(nr) +\".html\")\n",
    "        fig2=model.visualize_topics_over_time(topics_over_time, top_n_topics=nr)\n",
    "        fig2.write_html(\"overtimeplot\"+str(nr) +\".html\")\n",
    "        if __name__ == '__main__':\n",
    "            format_topics_sentences(model, topics)\n",
    "#         format_topics_sentences(model, topics)\n",
    "        # Preprocess Documents\n",
    "        documents = pd.DataFrame({\"Document\": df['full_txt_cleaned'].values,\n",
    "                                  \"ID\": range(len(df['full_txt_cleaned'])),\n",
    "                                  \"Topic\": topics})\n",
    "        documents_per_topic = documents.groupby(['Topic'], as_index=False).agg({'Document': ' '.join})\n",
    "        cleaned_docs = model._preprocess_text(documents_per_topic.Document.values)\n",
    "\n",
    "        # Extract vectorizer and analyzer from BERTopic\n",
    "        vectorizer = model.vectorizer_model\n",
    "        analyzer = vectorizer.build_analyzer()\n",
    "\n",
    "        # Extract features for Topic Coherence evaluation\n",
    "        words = vectorizer.get_feature_names()\n",
    "        tokens = [analyzer(doc) for doc in cleaned_docs]\n",
    "        dictionary = corpora.Dictionary(tokens)\n",
    "        corpus = [dictionary.doc2bow(token) for token in tokens]\n",
    "        topic_words = [[words for words, _ in model.get_topic(topic)] \n",
    "                       for topic in range(len(set(topics))-1)]\n",
    "        # Evaluate\n",
    "        coherence_model = CoherenceModel(topics=topic_words, \n",
    "                                         texts=tokens, \n",
    "                                         corpus=corpus,\n",
    "                                         dictionary=dictionary, \n",
    "                                         coherence='c_v')\n",
    "        coherence = coherence_model.get_coherence()\n",
    "        scores_cv[nr] = coherence      \n",
    "        print(f'Done.')\n",
    "except KeyboardInterrupt as e:\n",
    "    print(e)"
   ]
  },
  {
   "cell_type": "code",
   "execution_count": 61,
   "id": "f5256b9b",
   "metadata": {},
   "outputs": [
    {
     "data": {
      "text/plain": [
       "<AxesSubplot:xlabel='nr'>"
      ]
     },
     "execution_count": 61,
     "metadata": {},
     "output_type": "execute_result"
    },
    {
     "data": {
      "image/png": "[encoded data removed]",
      "text/plain": [
       "<Figure size 432x288 with 1 Axes>"
      ]
     },
     "metadata": {
      "needs_background": "light"
     },
     "output_type": "display_data"
    }
   ],
   "source": [
    "score_df = pd.DataFrame(scores_cv.items(), columns=['nr', 'c_v_score'])\n",
    "score_df.plot(x='nr',y='c_v_score')"
   ]
  },
  {
   "cell_type": "code",
   "execution_count": 62,
   "id": "34f758a6",
   "metadata": {},
   "outputs": [
    {
     "data": {
      "text/html": [
       "<div>\n",
       "<style scoped>\n",
       "    .dataframe tbody tr th:only-of-type {\n",
       "        vertical-align: middle;\n",
       "    }\n",
       "\n",
       "    .dataframe tbody tr th {\n",
       "        vertical-align: top;\n",
       "    }\n",
       "\n",
       "    .dataframe thead th {\n",
       "        text-align: right;\n",
       "    }\n",
       "</style>\n",
       "<table border=\"1\" class=\"dataframe\">\n",
       "  <thead>\n",
       "    <tr style=\"text-align: right;\">\n",
       "      <th></th>\n",
       "      <th>nr</th>\n",
       "      <th>c_v_score</th>\n",
       "    </tr>\n",
       "  </thead>\n",
       "  <tbody>\n",
       "    <tr>\n",
       "      <th>0</th>\n",
       "      <td>5</td>\n",
       "      <td>0.449300</td>\n",
       "    </tr>\n",
       "    <tr>\n",
       "      <th>1</th>\n",
       "      <td>6</td>\n",
       "      <td>0.404170</td>\n",
       "    </tr>\n",
       "    <tr>\n",
       "      <th>2</th>\n",
       "      <td>7</td>\n",
       "      <td>0.444752</td>\n",
       "    </tr>\n",
       "    <tr>\n",
       "      <th>3</th>\n",
       "      <td>8</td>\n",
       "      <td>0.534121</td>\n",
       "    </tr>\n",
       "    <tr>\n",
       "      <th>4</th>\n",
       "      <td>9</td>\n",
       "      <td>0.459600</td>\n",
       "    </tr>\n",
       "    <tr>\n",
       "      <th>5</th>\n",
       "      <td>10</td>\n",
       "      <td>0.555920</td>\n",
       "    </tr>\n",
       "  </tbody>\n",
       "</table>\n",
       "</div>"
      ],
      "text/plain": [
       "   nr  c_v_score\n",
       "0   5   0.449300\n",
       "1   6   0.404170\n",
       "2   7   0.444752\n",
       "3   8   0.534121\n",
       "4   9   0.459600\n",
       "5  10   0.555920"
      ]
     },
     "execution_count": 62,
     "metadata": {},
     "output_type": "execute_result"
    }
   ],
   "source": [
    "score_df"
   ]
  },
  {
   "cell_type": "code",
   "execution_count": null,
   "id": "004f9372",
   "metadata": {},
   "outputs": [],
   "source": []
  }
 ],
 "metadata": {
  "kernelspec": {
   "display_name": "Python 3 (ipykernel)",
   "language": "python",
   "name": "python3"
  },
  "language_info": {
   "codemirror_mode": {
    "name": "ipython",
    "version": 3
   },
   "file_extension": ".py",
   "mimetype": "text/x-python",
   "name": "python",
   "nbconvert_exporter": "python",
   "pygments_lexer": "ipython3",
   "version": "3.8.11"
  }
 },
 "nbformat": 4,
 "nbformat_minor": 5
}
